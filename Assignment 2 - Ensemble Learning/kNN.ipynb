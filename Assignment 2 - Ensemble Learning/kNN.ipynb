{
 "cells": [
  {
   "cell_type": "markdown",
   "metadata": {},
   "source": [
    "# k-Nearest Neighbors (kNN) "
   ]
  },
  {
   "cell_type": "code",
   "execution_count": 245,
   "metadata": {},
   "outputs": [],
   "source": [
    "import numpy as np\n",
    "import pandas as pd\n",
    "from os import path"
   ]
  },
  {
   "cell_type": "code",
   "execution_count": 246,
   "metadata": {},
   "outputs": [],
   "source": [
    "def load_data(filePath):\n",
    "    dataset = pd.read_csv(filePath)\n",
    "    X_train = dataset[dataset.columns[:-1]]\n",
    "    y = dataset[dataset.columns[-1]]\n",
    "    return X_train, y, dataset"
   ]
  },
  {
   "cell_type": "markdown",
   "metadata": {},
   "source": [
    "### Load Regression Data"
   ]
  },
  {
   "cell_type": "code",
   "execution_count": 247,
   "metadata": {},
   "outputs": [],
   "source": [
    "knn_regression_data = path.abspath(\"dataset/knn_regression.csv\")\n",
    "X_reg_train, y_reg_train, reg_dataset = load_data(knn_regression_data)"
   ]
  },
  {
   "cell_type": "code",
   "execution_count": 248,
   "metadata": {},
   "outputs": [
    {
     "data": {
      "text/html": [
       "<div>\n",
       "<style scoped>\n",
       "    .dataframe tbody tr th:only-of-type {\n",
       "        vertical-align: middle;\n",
       "    }\n",
       "\n",
       "    .dataframe tbody tr th {\n",
       "        vertical-align: top;\n",
       "    }\n",
       "\n",
       "    .dataframe thead th {\n",
       "        text-align: right;\n",
       "    }\n",
       "</style>\n",
       "<table border=\"1\" class=\"dataframe\">\n",
       "  <thead>\n",
       "    <tr style=\"text-align: right;\">\n",
       "      <th></th>\n",
       "      <th>x1</th>\n",
       "      <th>x2</th>\n",
       "      <th>x3</th>\n",
       "      <th>y</th>\n",
       "    </tr>\n",
       "  </thead>\n",
       "  <tbody>\n",
       "    <tr>\n",
       "      <th>0</th>\n",
       "      <td>5.1</td>\n",
       "      <td>3.5</td>\n",
       "      <td>1.4</td>\n",
       "      <td>0.2</td>\n",
       "    </tr>\n",
       "    <tr>\n",
       "      <th>1</th>\n",
       "      <td>4.9</td>\n",
       "      <td>3.0</td>\n",
       "      <td>1.4</td>\n",
       "      <td>0.2</td>\n",
       "    </tr>\n",
       "    <tr>\n",
       "      <th>2</th>\n",
       "      <td>4.7</td>\n",
       "      <td>3.2</td>\n",
       "      <td>1.3</td>\n",
       "      <td>0.2</td>\n",
       "    </tr>\n",
       "    <tr>\n",
       "      <th>3</th>\n",
       "      <td>4.6</td>\n",
       "      <td>3.1</td>\n",
       "      <td>1.5</td>\n",
       "      <td>0.2</td>\n",
       "    </tr>\n",
       "    <tr>\n",
       "      <th>4</th>\n",
       "      <td>5.0</td>\n",
       "      <td>3.6</td>\n",
       "      <td>1.4</td>\n",
       "      <td>0.2</td>\n",
       "    </tr>\n",
       "  </tbody>\n",
       "</table>\n",
       "</div>"
      ],
      "text/plain": [
       "    x1   x2   x3    y\n",
       "0  5.1  3.5  1.4  0.2\n",
       "1  4.9  3.0  1.4  0.2\n",
       "2  4.7  3.2  1.3  0.2\n",
       "3  4.6  3.1  1.5  0.2\n",
       "4  5.0  3.6  1.4  0.2"
      ]
     },
     "execution_count": 248,
     "metadata": {},
     "output_type": "execute_result"
    }
   ],
   "source": [
    "reg_dataset.head()"
   ]
  },
  {
   "cell_type": "markdown",
   "metadata": {},
   "source": [
    "### Load Classification Data"
   ]
  },
  {
   "cell_type": "code",
   "execution_count": 249,
   "metadata": {},
   "outputs": [],
   "source": [
    "knn_classification = path.abspath(\"dataset/knn_classification.csv\")\n",
    "X_clf_train, y_clf_train, clf_dataset = load_data(knn_classification)"
   ]
  },
  {
   "cell_type": "code",
   "execution_count": 250,
   "metadata": {},
   "outputs": [
    {
     "data": {
      "text/html": [
       "<div>\n",
       "<style scoped>\n",
       "    .dataframe tbody tr th:only-of-type {\n",
       "        vertical-align: middle;\n",
       "    }\n",
       "\n",
       "    .dataframe tbody tr th {\n",
       "        vertical-align: top;\n",
       "    }\n",
       "\n",
       "    .dataframe thead th {\n",
       "        text-align: right;\n",
       "    }\n",
       "</style>\n",
       "<table border=\"1\" class=\"dataframe\">\n",
       "  <thead>\n",
       "    <tr style=\"text-align: right;\">\n",
       "      <th></th>\n",
       "      <th>x1</th>\n",
       "      <th>x2</th>\n",
       "      <th>x3</th>\n",
       "      <th>x4</th>\n",
       "      <th>y</th>\n",
       "    </tr>\n",
       "  </thead>\n",
       "  <tbody>\n",
       "    <tr>\n",
       "      <th>0</th>\n",
       "      <td>5.1</td>\n",
       "      <td>3.5</td>\n",
       "      <td>1.4</td>\n",
       "      <td>0.2</td>\n",
       "      <td>0</td>\n",
       "    </tr>\n",
       "    <tr>\n",
       "      <th>1</th>\n",
       "      <td>4.9</td>\n",
       "      <td>3.0</td>\n",
       "      <td>1.4</td>\n",
       "      <td>0.2</td>\n",
       "      <td>0</td>\n",
       "    </tr>\n",
       "    <tr>\n",
       "      <th>2</th>\n",
       "      <td>4.7</td>\n",
       "      <td>3.2</td>\n",
       "      <td>1.3</td>\n",
       "      <td>0.2</td>\n",
       "      <td>0</td>\n",
       "    </tr>\n",
       "    <tr>\n",
       "      <th>3</th>\n",
       "      <td>4.6</td>\n",
       "      <td>3.1</td>\n",
       "      <td>1.5</td>\n",
       "      <td>0.2</td>\n",
       "      <td>0</td>\n",
       "    </tr>\n",
       "    <tr>\n",
       "      <th>4</th>\n",
       "      <td>5.0</td>\n",
       "      <td>3.6</td>\n",
       "      <td>1.4</td>\n",
       "      <td>0.2</td>\n",
       "      <td>0</td>\n",
       "    </tr>\n",
       "  </tbody>\n",
       "</table>\n",
       "</div>"
      ],
      "text/plain": [
       "    x1   x2   x3   x4  y\n",
       "0  5.1  3.5  1.4  0.2  0\n",
       "1  4.9  3.0  1.4  0.2  0\n",
       "2  4.7  3.2  1.3  0.2  0\n",
       "3  4.6  3.1  1.5  0.2  0\n",
       "4  5.0  3.6  1.4  0.2  0"
      ]
     },
     "execution_count": 250,
     "metadata": {},
     "output_type": "execute_result"
    }
   ],
   "source": [
    "clf_dataset.head()"
   ]
  },
  {
   "cell_type": "markdown",
   "metadata": {},
   "source": [
    "### Euclidean distance"
   ]
  },
  {
   "cell_type": "code",
   "execution_count": 251,
   "metadata": {},
   "outputs": [],
   "source": [
    "def euclidean_distance(q, sample, length):\n",
    "    distance = 0\n",
    "    for i in range(length-1):\n",
    "        distance += np.square(q[i] - sample[i])\n",
    "    return np.sqrt(distance)"
   ]
  },
  {
   "cell_type": "markdown",
   "metadata": {},
   "source": [
    "### Get Neighbors"
   ]
  },
  {
   "cell_type": "code",
   "execution_count": 252,
   "metadata": {},
   "outputs": [],
   "source": [
    "def get_neighbors(X_train, query, k):\n",
    "    dist = []\n",
    "    for x in X_train:\n",
    "        dist.append((x, euclidean_distance(query, x, len(query))))\n",
    "    dist.sort(key=lambda tup: tup[1])\n",
    "    neighbors = []\n",
    "    for i in range(k):\n",
    "        neighbors.append(dist[i][0])\n",
    "    return np.array(neighbors)"
   ]
  },
  {
   "cell_type": "markdown",
   "metadata": {},
   "source": [
    "### Display Nearest Neighbors"
   ]
  },
  {
   "cell_type": "code",
   "execution_count": 253,
   "metadata": {},
   "outputs": [],
   "source": [
    "def display_knn(neighbors):\n",
    "    print(\"x:\\t x1\\t x2\\t x3\")\n",
    "    for i in range(len(neighbors)):\n",
    "        print(f\"{i}:\\t {neighbors[i][0]}\\t{neighbors[i][1]}\\t{neighbors[i][2]}\\t\")\n"
   ]
  },
  {
   "cell_type": "markdown",
   "metadata": {},
   "source": [
    "## k-NN Regression"
   ]
  },
  {
   "cell_type": "code",
   "execution_count": 254,
   "metadata": {},
   "outputs": [
    {
     "name": "stdout",
     "output_type": "stream",
     "text": [
      "Mean of k=10 Neighbors:\t1.6099999999999999\n"
     ]
    }
   ],
   "source": [
    "k = 10\n",
    "\n",
    "query_index = 123\n",
    "query = reg_dataset.values[query_index]\n",
    "X_reg = np.delete(reg_dataset.values, obj=query_index, axis=0)\n",
    "knn_reg = get_neighbors(X_reg, query, k)\n",
    "pred_knn_reg = np.mean(knn_reg, 0)[-1]\n",
    "\n",
    "print(f\"Mean of k={k} Neighbors:\\t{pred_knn_reg}\")"
   ]
  },
  {
   "cell_type": "code",
   "execution_count": 255,
   "metadata": {},
   "outputs": [
    {
     "name": "stdout",
     "output_type": "stream",
     "text": [
      "k=10 Nearest Neighbors\n",
      "\n",
      "x:\t x1\t x2\t x3\n",
      "0:\t 6.2\t2.8\t4.8\t\n",
      "1:\t 6.3\t2.5\t4.9\t\n",
      "2:\t 6.3\t2.8\t5.1\t\n",
      "3:\t 6.3\t2.5\t5.0\t\n",
      "4:\t 6.1\t2.8\t4.7\t\n",
      "5:\t 6.1\t2.9\t4.7\t\n",
      "6:\t 6.0\t2.7\t5.1\t\n",
      "7:\t 6.1\t3.0\t4.9\t\n",
      "8:\t 6.5\t2.8\t4.6\t\n",
      "9:\t 6.4\t2.7\t5.3\t\n"
     ]
    }
   ],
   "source": [
    "print(f\"k={k} Nearest Neighbors\\n\")\n",
    "display_knn(knn_reg)"
   ]
  },
  {
   "cell_type": "markdown",
   "metadata": {},
   "source": [
    "# k-NN Classification"
   ]
  },
  {
   "cell_type": "markdown",
   "metadata": {},
   "source": [
    "### Plurality vote "
   ]
  },
  {
   "cell_type": "code",
   "execution_count": 256,
   "metadata": {},
   "outputs": [],
   "source": [
    "def plurality_vote(all_neighbors):\n",
    "    # returns the neighbors with most occurrences\n",
    "    votes = {}\n",
    "    all_classifications = [n[-1] for n in all_neighbors]\n",
    "    return max(set(all_classifications), key=all_classifications.count)"
   ]
  },
  {
   "cell_type": "code",
   "execution_count": 257,
   "metadata": {},
   "outputs": [
    {
     "name": "stdout",
     "output_type": "stream",
     "text": [
      "Max of k=10 Neighbors:\t2.0\n"
     ]
    }
   ],
   "source": [
    "k = 10\n",
    "\n",
    "query_index = 123\n",
    "query = clf_dataset.values[query_index]\n",
    "X_clf = np.delete(clf_dataset.values, obj=query_index, axis=0)\n",
    "knn_clf = get_neighbors(X_clf, query, k)\n",
    "pred_knn_clf = plurality_vote(knn_clf)\n",
    "\n",
    "print(f\"Max of k={k} Neighbors:\\t{pred_knn_clf}\")"
   ]
  },
  {
   "cell_type": "code",
   "execution_count": 258,
   "metadata": {},
   "outputs": [
    {
     "name": "stdout",
     "output_type": "stream",
     "text": [
      "k=10 Nearest Neighbors\n",
      "\n",
      "x:\t x1\t x2\t x3\n",
      "0:\t 6.2\t2.8\t4.8\t\n",
      "1:\t 6.3\t2.5\t5.0\t\n",
      "2:\t 6.1\t3.0\t4.9\t\n",
      "3:\t 6.3\t2.5\t4.9\t\n",
      "4:\t 6.3\t2.8\t5.1\t\n",
      "5:\t 6.0\t2.7\t5.1\t\n",
      "6:\t 6.4\t2.7\t5.3\t\n",
      "7:\t 6.0\t3.0\t4.8\t\n",
      "8:\t 6.5\t2.8\t4.6\t\n",
      "9:\t 6.5\t3.0\t5.2\t\n"
     ]
    }
   ],
   "source": [
    "print(f\"k={k} Nearest Neighbors\\n\")\n",
    "display_knn(knn_clf)"
   ]
  }
 ],
 "metadata": {
  "kernelspec": {
   "display_name": "Python 3",
   "language": "python",
   "name": "python3"
  },
  "language_info": {
   "codemirror_mode": {
    "name": "ipython",
    "version": 3
   },
   "file_extension": ".py",
   "mimetype": "text/x-python",
   "name": "python",
   "nbconvert_exporter": "python",
   "pygments_lexer": "ipython3",
   "version": "3.7.1"
  }
 },
 "nbformat": 4,
 "nbformat_minor": 2
}
